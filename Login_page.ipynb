{
 "cells": [
  {
   "cell_type": "code",
   "execution_count": 3,
   "id": "eb877a3a-2cef-4036-81be-0bb8b327f967",
   "metadata": {},
   "outputs": [],
   "source": [
    "import tkinter as tk\n",
    "import webbrowser\n",
    "from tkinter import messagebox"
   ]
  },
  {
   "cell_type": "code",
   "execution_count": 5,
   "id": "04ed4773-643d-4cea-ac0b-c0d162155107",
   "metadata": {},
   "outputs": [],
   "source": [
    "\n",
    "username=\"SAURABH\"\n",
    "password=\"1234@\"\n",
    "\n",
    "def login():\n",
    "        input_username= username_entry.get().strip().lower()\n",
    "        input_password= password_entry.get()\n",
    "        if username.lower()==input_username.lower() and password==input_password:\n",
    "            webbrowser.open(\"www.google.com\")\n",
    "        \n",
    "        else:\n",
    "            messagebox.showinfo(\"Wrong information\", \"Wrong username or password please try again\")\n",
    "            \n",
    "root=tk.Tk()\n",
    "root.geometry(\"600x300\")\n",
    "root.title(\"Login Page\")\n",
    "\n",
    "username_label= tk.Label(text=\"Username:\", font=(\"Arial\",15))\n",
    "username_label.grid(padx= 50, pady=5)\n",
    "\n",
    "password_label= tk.Label(text=\"Password:\", font=(\"Arial\", 15))\n",
    "password_label.grid(padx= 50, pady=5)\n",
    "            \n",
    "username_entry=tk.Entry()\n",
    "username_entry.grid(row=0, column=1)\n",
    "\n",
    "password_entry=tk.Entry(show=\"*\")\n",
    "password_entry.grid(row=1, column=1)\n",
    "\n",
    "button=tk.Button(text=\"Submit\", command= login, background=\"blue\")\n",
    "button.grid(row=2, column=1)\n",
    "\n",
    "\n",
    "root.mainloop()"
   ]
  },
  {
   "cell_type": "code",
   "execution_count": null,
   "id": "0b446f56-7894-4ac5-8987-c7d02aebd144",
   "metadata": {},
   "outputs": [],
   "source": []
  }
 ],
 "metadata": {
  "kernelspec": {
   "display_name": "Python 3 (ipykernel)",
   "language": "python",
   "name": "python3"
  },
  "language_info": {
   "codemirror_mode": {
    "name": "ipython",
    "version": 3
   },
   "file_extension": ".py",
   "mimetype": "text/x-python",
   "name": "python",
   "nbconvert_exporter": "python",
   "pygments_lexer": "ipython3",
   "version": "3.12.7"
  }
 },
 "nbformat": 4,
 "nbformat_minor": 5
}
